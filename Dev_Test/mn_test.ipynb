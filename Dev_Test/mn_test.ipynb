{
 "cells": [
  {
   "cell_type": "markdown",
   "id": "4c7f2950",
   "metadata": {},
   "source": [
    "<h1>Introduction to the problem sets"
   ]
  },
  {
   "cell_type": "markdown",
   "id": "fefe31ca",
   "metadata": {},
   "source": [
    "<p>\n",
    "    \n",
    "    Hi there,\n",
    "\n",
    "    Thanks for taking an interest in this coding test. There are 7 problem sets:\n",
    "   \n",
    "    1) Calculate futures PNL\n",
    "    2) Run custom summary stats\n",
    "    3) Plot percentage returns using bokeh\n",
    "    4) Gather and show economic events\n",
    "    5) Load a JSON and create a loop to update settings\n",
    "    6) Create an email function to send attachments (no need to include your password)\n",
    "    7) IQfeed symbol lookup (no coding)\n",
    "    \n",
    "    Please complete all 7 tests using python in this ipython/jupyter notebook. \n",
    "    We will compare your results with an internal notebook.\n",
    "\n",
    "    Please unzip the \"mn_test\" directory that was sent to you.\n",
    "    Work in this directory to run the ipython/jupyter notebook titled \"mn_test.ipynb\".\n",
    "\n",
    "    Please enter your name info in the code block below.\n",
    "    \n",
    "    Thanks and good luck!\n",
    "</p>"
   ]
  },
  {
   "cell_type": "code",
   "execution_count": 1,
   "id": "2b555dca",
   "metadata": {},
   "outputs": [],
   "source": [
    "# Example:  PERSON = \"John Smith\"\n",
    "PERSON = \"John Smith\""
   ]
  },
  {
   "cell_type": "code",
   "execution_count": 2,
   "id": "21dfa410",
   "metadata": {},
   "outputs": [
    {
     "data": {
      "text/plain": [
       "'johnsmith'"
      ]
     },
     "execution_count": 2,
     "metadata": {},
     "output_type": "execute_result"
    }
   ],
   "source": [
    "PERSON = PERSON.lower().replace(' ', \"\")\n",
    "PERSON"
   ]
  },
  {
   "cell_type": "markdown",
   "id": "d650e931",
   "metadata": {},
   "source": [
    "<h1>1) Calculate futures PNL"
   ]
  },
  {
   "cell_type": "markdown",
   "id": "70d7b383",
   "metadata": {},
   "source": [
    "If you don't know how to calculate futures pnl, you can use this resource to learn how:\n",
    "https://www.cmegroup.com/education/courses/introduction-to-futures/calculating-futures-contract-profit-or-loss.html#\n",
    "    \n",
    "If you need to know where to find futures contract specs, search the given products \"contract spec\" webpage on the CME website (we're only using CME products in this example)\n",
    "\n",
    "For each product in the /data/futures_data.csv file, read it in with pandas and calculate the PNL for each product.\n",
    "\n",
    "Assume you place a \"buy\" long trade at the very first price for 5 contracts and hold till the very last price.\n",
    "\n",
    "(don't worry about rolling futures or weekends, just act as if it's one continuous price data set)\n",
    "\n",
    "Plot the PNL per product in it's own plot using bokeh.\n",
    "\n",
    "What is the final PNL per product?"
   ]
  },
  {
   "cell_type": "code",
   "execution_count": 3,
   "id": "2e17c46f",
   "metadata": {},
   "outputs": [],
   "source": [
    "# your code goes here..."
   ]
  },
  {
   "cell_type": "markdown",
   "id": "58780f22",
   "metadata": {},
   "source": [
    "<h1>2) Run custom summary stats"
   ]
  },
  {
   "cell_type": "markdown",
   "id": "f44d2ef3",
   "metadata": {},
   "source": [
    "We have a summary statistics format that we like to use for daily PNL analysis. \n",
    "\n",
    "First, convert the hourly futures data into daily PNLs. \n",
    "\n",
    "Then use the following summary_stats() function to produce the analysis.\n",
    "\n",
    "Run two groups of summary stats: one for ES and another for NQ. \n",
    "\n",
    "If your column headers don't match what's in the summary_stats() function, please change them to match.\n",
    "\n",
    "Use the Ipython display() function to show the final summary_stats dataframe."
   ]
  },
  {
   "cell_type": "code",
   "execution_count": 4,
   "id": "e369f344",
   "metadata": {},
   "outputs": [],
   "source": [
    "import pandas as pd\n",
    "def summary_stats(df_: pd.DataFrame, column_name=\"value\"):\n",
    "    \n",
    "    df_ = df_.dropna(how='all')\n",
    "    df_[\"count\"] = int(df_[\"size\"].count())\n",
    "    df_[\"mean\"] = round(df_.pnl.mean())\n",
    "    df_[\"min\"] = round(df_.pnl.min())\n",
    "    df_[\"25(%)\"] = round(df_.pnl.quantile(q=0.25))\n",
    "    df_[\"50(%)\"] = round(df_.pnl.quantile(q=0.5))\n",
    "    df_[\"75(%)\"] = round(df_.pnl.quantile(q=0.75))\n",
    "    df_[\"max\"] = round(df_.pnl.max())\n",
    "    df_[\"wins\"] = df_[\"pnl\"].apply(lambda x: 1 if x > 0 else 0)\n",
    "    df_[\"win(%)\"] = round(int(len(df_[df_.wins > 0])/df_.shape[0] * 100), 2)\n",
    "    df_[\"mean_unit_pnl\"] = round(np.sum(df_.pnl)/ np.sum(np.absolute(df_[\"size\"])))\n",
    "    try:\n",
    "        df_[\"std_unit_pnl\"] = round(np.std(df_.pnl) / np.sum(np.absolute(df_[\"size\"])))\n",
    "    except:\n",
    "        df_[\"std_unit_pnl\"] = np.nan\n",
    "    df_['average_daily_pnl'] = round(df_.groupby('date').pnl.sum().mean())\n",
    "    df_['total_dates'] = round(len(df_.date.unique()))\n",
    "    try:\n",
    "        df_['std_daily_pnl'] = round(df_.groupby('date').pnl.sum().std())\n",
    "    except:\n",
    "        df_['std_daily_pnl'] = np.nan\n",
    "    try:\n",
    "        sharpe = np.round((252**0.5)*(df_[\"average_daily_pnl\"] / df_[\"std_daily_pnl\"]), 3)\n",
    "    except:\n",
    "        sharpe = np.nan\n",
    "    df_[\"sharpe\"] = round(sharpe, 2)\n",
    "    df_[\"total_pnl\"] = round(np.sum(df_.pnl))\n",
    "    df_[\"total_volume\"] = round(np.sum(np.absolute(df_[\"size\"])))\n",
    "    df_final = df_.iloc[0][['count', 'mean', 'min', '25(%)',\n",
    "                            '50(%)', '75(%)', 'max', 'win(%)', 'mean_unit_pnl', 'std_unit_pnl',\n",
    "                            'average_daily_pnl', 'total_dates', 'std_daily_pnl', 'sharpe',\n",
    "                            'total_pnl', 'total_volume']].reset_index()\n",
    "    df_final.columns = ['statistic', column_name]\n",
    "    df_final = df_final.set_index('statistic')\n",
    "    return df_final"
   ]
  },
  {
   "cell_type": "code",
   "execution_count": 5,
   "id": "7ffe3c4e",
   "metadata": {},
   "outputs": [],
   "source": [
    "# your code goes here..."
   ]
  },
  {
   "cell_type": "markdown",
   "id": "4d6bf3a4",
   "metadata": {},
   "source": [
    "<h1>3) Plot percentage returns using bokeh"
   ]
  },
  {
   "cell_type": "markdown",
   "id": "4c1be73d",
   "metadata": {},
   "source": [
    "You should reuse the code from 1 and 2 to build your datasets and make you plots.\n",
    "\n",
    "Make a dual line plot of daily % returns per product."
   ]
  },
  {
   "cell_type": "code",
   "execution_count": 6,
   "id": "69fbb56e",
   "metadata": {},
   "outputs": [],
   "source": [
    "# your code goes here..."
   ]
  },
  {
   "cell_type": "markdown",
   "id": "cc616cb0",
   "metadata": {},
   "source": [
    "<h1>4) Gather and show economic events"
   ]
  },
  {
   "cell_type": "markdown",
   "id": "acb59d25",
   "metadata": {},
   "source": [
    "Please gather the week's economic events below and sort by earliest date, time.\n",
    "\n",
    "You will have to use python to scrape a website to do this. \n",
    "\n",
    "Use the chromedriver we provided in \"driver\" folder and use selenium for this task. \n",
    "\n",
    "You will have to use a chrome web browser and you may get a chromedriver error. \n",
    "\n",
    "Troubleshooting this potential error is a part of the task."
   ]
  },
  {
   "cell_type": "code",
   "execution_count": 7,
   "id": "191628e1",
   "metadata": {},
   "outputs": [],
   "source": [
    "events_url = 'https://www.forexfactory.com/calendar'"
   ]
  },
  {
   "cell_type": "code",
   "execution_count": 8,
   "id": "669a0d7f",
   "metadata": {},
   "outputs": [],
   "source": [
    "# you may find this helpful\n",
    "import os\n",
    "EXECUTABLE_PATH = os.path.join(os.getcwd(), \"driver\", \"chromedriver\")"
   ]
  },
  {
   "cell_type": "markdown",
   "id": "d376fff1",
   "metadata": {},
   "source": [
    "<h1>5) Load a JSON and create a loop to update settings"
   ]
  },
  {
   "cell_type": "markdown",
   "id": "398797db",
   "metadata": {},
   "source": [
    "Find the JSON file in /data/RetailSales_CHI.json.\n",
    "\n",
    "Load this file here and create a function to loop over the \"params\" and update the following settings:\n",
    "    \n",
    "- Change \"event_date\" to \"2021-12-14\"\n",
    "- Change \"event_time\" to \"09:45:00\"\n",
    "- Use event_time variable with a python/pandas timedelta builtin function to add \"5 minutes\" and save this as the \"hedge_start_time\""
   ]
  },
  {
   "cell_type": "code",
   "execution_count": 9,
   "id": "4f0a561a",
   "metadata": {},
   "outputs": [],
   "source": [
    "# your code goes here..."
   ]
  },
  {
   "cell_type": "markdown",
   "id": "103d5be3",
   "metadata": {},
   "source": [
    "<h1>6) Create an email function to send attachments"
   ]
  },
  {
   "cell_type": "markdown",
   "id": "20184543",
   "metadata": {},
   "source": [
    "You will likely have to consider additional python packages to send an email.\n",
    "\n",
    "You don't have to include any personal information such as email address and password. \n",
    "\n",
    "Just test something that does in fact send an email. "
   ]
  },
  {
   "cell_type": "code",
   "execution_count": 10,
   "id": "2feed670",
   "metadata": {},
   "outputs": [
    {
     "data": {
      "text/plain": [
       "'johnsmith_mn_test'"
      ]
     },
     "execution_count": 10,
     "metadata": {},
     "output_type": "execute_result"
    }
   ],
   "source": [
    "# you could email an attachment with this naming but not necessary, just show that the email function works\n",
    "ZIP_DIR_NAME = f\"{PERSON}_mn_test\"\n",
    "ZIP_DIR_NAME"
   ]
  },
  {
   "cell_type": "code",
   "execution_count": 11,
   "id": "1f710d76",
   "metadata": {},
   "outputs": [],
   "source": [
    "# your code goes here..."
   ]
  },
  {
   "cell_type": "markdown",
   "id": "0e145cd2",
   "metadata": {},
   "source": [
    "<h1>7) IQFeed Symbol Lookup"
   ]
  },
  {
   "cell_type": "markdown",
   "id": "43f2ee69",
   "metadata": {},
   "source": [
    "This task requires no code. Please follow the instructions:\n",
    "\n",
    "- go to www.iqfeed.net\n",
    "- go to their symbol lookup search engine\n",
    "- find the \"continuous contract code\" for these 5 products:\n",
    "\n",
    "1. Crude Oil future\n",
    "2. S&P 500 future\n",
    "3. Natural Gas Future\n",
    "4. Eurostoxx 50 future\n",
    "5. Brent Crude future\n"
   ]
  },
  {
   "cell_type": "code",
   "execution_count": 12,
   "id": "d7123bc4",
   "metadata": {},
   "outputs": [],
   "source": [
    "iqf_crude_oil = \"\"\n",
    "iqf_s_and_p_500 = \"\"\n",
    "iqf_nat_gas = \"\"\n",
    "iqf_eurostoxx_50 = \"\"\n",
    "iqf_brent_crude = \"\""
   ]
  }
 ],
 "metadata": {
  "kernelspec": {
   "display_name": "Python 3",
   "language": "python",
   "name": "python3"
  },
  "language_info": {
   "codemirror_mode": {
    "name": "ipython",
    "version": 3
   },
   "file_extension": ".py",
   "mimetype": "text/x-python",
   "name": "python",
   "nbconvert_exporter": "python",
   "pygments_lexer": "ipython3",
   "version": "3.8.8"
  }
 },
 "nbformat": 4,
 "nbformat_minor": 5
}
